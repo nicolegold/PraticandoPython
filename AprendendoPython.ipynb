{
  "nbformat": 4,
  "nbformat_minor": 0,
  "metadata": {
    "colab": {
      "name": "AprendendoPython.ipynb",
      "provenance": [],
      "include_colab_link": true
    },
    "kernelspec": {
      "name": "python3",
      "display_name": "Python 3"
    }
  },
  "cells": [
    {
      "cell_type": "markdown",
      "metadata": {
        "id": "view-in-github",
        "colab_type": "text"
      },
      "source": [
        "<a href=\"https://colab.research.google.com/github/nicolegold/PraticandoPython/blob/master/AprendendoPython.ipynb\" target=\"_parent\"><img src=\"https://colab.research.google.com/assets/colab-badge.svg\" alt=\"Open In Colab\"/></a>"
      ]
    },
    {
      "cell_type": "markdown",
      "metadata": {
        "id": "UPZ_pdRUBjDq",
        "colab_type": "text"
      },
      "source": [
        "##Aulas do curso Aprendendo Python"
      ]
    },
    {
      "cell_type": "code",
      "metadata": {
        "id": "F0YvqsCkmGFC",
        "colab_type": "code",
        "colab": {}
      },
      "source": [
        "# -*- coding: utf-8 -*-\n",
        "x = 1\n",
        "y = 2\n",
        "\n",
        "if x==y:\n",
        "  print(\"Numeros iguais\")\n",
        "elif y>x:\n",
        "  print(\"y é maior que x\")\n",
        "else:\n",
        "  print(\"Numeros diferentes\")"
      ],
      "execution_count": 0,
      "outputs": []
    },
    {
      "cell_type": "code",
      "metadata": {
        "id": "p94iABBbr8nD",
        "colab_type": "code",
        "colab": {}
      },
      "source": [
        "x =1\n",
        "\n",
        "while x < 10:\n",
        "  print(x)\n",
        "  x = x+1\n",
        "  "
      ],
      "execution_count": 0,
      "outputs": []
    },
    {
      "cell_type": "code",
      "metadata": {
        "id": "pX5ZBT4CsdVG",
        "colab_type": "code",
        "colab": {}
      },
      "source": [
        "lista1 = [1,2,3,4,5]\n",
        "lista2 = [\"ola\",\"mundo\",\"!\"]\n",
        "lista3 = [0,\"ola\",9.99,True]\n",
        "\n",
        "for i in lista3: #para cada elemente do laço for o valor i sera atribuido a cada um dos elementos\n",
        "  print(i)"
      ],
      "execution_count": 0,
      "outputs": []
    },
    {
      "cell_type": "code",
      "metadata": {
        "id": "BusIWAROtI07",
        "colab_type": "code",
        "colab": {}
      },
      "source": [
        "for i in range(10): #vai me retornar uma lista com 10 elementos\n",
        "  print(i)\n",
        " "
      ],
      "execution_count": 0,
      "outputs": []
    },
    {
      "cell_type": "code",
      "metadata": {
        "id": "bPmxHlHwtzE0",
        "colab_type": "code",
        "colab": {}
      },
      "source": [
        " numero = input(\"Digite um numero: \")\n",
        "  print(\"O numero digitado eh: \")\n",
        "  print(numero)"
      ],
      "execution_count": 0,
      "outputs": []
    },
    {
      "cell_type": "code",
      "metadata": {
        "id": "jtTYhRpWu8AP",
        "colab_type": "code",
        "colab": {}
      },
      "source": [
        "nome = input(\"Digite seu nome: \")\n",
        "  print(\"Bem-vindo \"+nome)"
      ],
      "execution_count": 0,
      "outputs": []
    },
    {
      "cell_type": "code",
      "metadata": {
        "id": "kh6sD5-qvMDm",
        "colab_type": "code",
        "colab": {}
      },
      "source": [
        "a = \"Nicole\"\n",
        "b = \"Diego\"\n",
        "\n",
        "concatenar = a + \" \"+ b\n",
        "print(concatenar)"
      ],
      "execution_count": 0,
      "outputs": []
    },
    {
      "cell_type": "code",
      "metadata": {
        "id": "rZrC8Alvv76T",
        "colab_type": "code",
        "colab": {}
      },
      "source": [
        "a = \"Nicole\"\n",
        "b = \"Diego\"\n",
        "\n",
        "concatenar = a + \" \"+ b\n",
        "\n",
        "tamanho = len(concatenar)\n",
        "print(tamanho)"
      ],
      "execution_count": 0,
      "outputs": []
    },
    {
      "cell_type": "code",
      "metadata": {
        "id": "P0ykZri2wIct",
        "colab_type": "code",
        "colab": {}
      },
      "source": [
        "a = \"Nicole\"\n",
        "b = \"Diego\"\n",
        "\n",
        "concatenar = a + \" \"+ b\n",
        "\n",
        "print(a[2])"
      ],
      "execution_count": 0,
      "outputs": []
    },
    {
      "cell_type": "code",
      "metadata": {
        "id": "pL3F0SnOwQgY",
        "colab_type": "code",
        "colab": {}
      },
      "source": [
        "a = \"Nicole\"\n",
        "b = \"Diego\"\n",
        "\n",
        "concatenar = a + \" \"+ b\n",
        "\n",
        "print(a[0])\n",
        "print(a[1])\n",
        "print(a[2])\n",
        "print(a[3])\n",
        "print(a[4])\n",
        "print(a[5])"
      ],
      "execution_count": 0,
      "outputs": []
    },
    {
      "cell_type": "code",
      "metadata": {
        "id": "zSuZ0SlTwgw1",
        "colab_type": "code",
        "colab": {}
      },
      "source": [
        "a = \"Nicole\"\n",
        "b = \"Diego\"\n",
        "\n",
        "concatenar = a + \" \"+ b\n",
        "\n",
        "print(concatenar[0:9])"
      ],
      "execution_count": 0,
      "outputs": []
    },
    {
      "cell_type": "code",
      "metadata": {
        "id": "mDxX69ggw9-2",
        "colab_type": "code",
        "colab": {}
      },
      "source": [
        "a = \"Nicole\"\n",
        "b = \"Diego\"\n",
        "\n",
        "concatenar = a + \" \"+ b\n",
        "\n",
        "print(concatenar)\n",
        "print(concatenar.lower()) #imprimir em minusculo\n",
        "print(concatenar.upper()) #imprimir em maiusculo\n",
        "\n",
        "concatenar = concatenar.upper()\n",
        "print(concatenar)"
      ],
      "execution_count": 0,
      "outputs": []
    },
    {
      "cell_type": "code",
      "metadata": {
        "id": "v_0i2V47xm72",
        "colab_type": "code",
        "colab": {}
      },
      "source": [
        "a = \"Nicole\"\n",
        "b = \"Diego\"\n",
        "\n",
        "concatenar = a + \" \"+ b + \"\\n\"\n",
        "\n",
        "print(concatenar.strip())"
      ],
      "execution_count": 0,
      "outputs": []
    },
    {
      "cell_type": "code",
      "metadata": {
        "id": "FkgXsWh2x6RN",
        "colab_type": "code",
        "colab": {}
      },
      "source": [
        "minha_string = \"O rato roeu a roupa do rei de Roma\"\n",
        "\n",
        "minha_lista = minha_string.split()\n",
        "print(minha_lista)"
      ],
      "execution_count": 0,
      "outputs": []
    },
    {
      "cell_type": "code",
      "metadata": {
        "id": "LyYIQPQYyXZA",
        "colab_type": "code",
        "colab": {}
      },
      "source": [
        "minha_string = \"O rato roeu a roupa do rei de Roma\"\n",
        "\n",
        "minha_lista = minha_string.split(\"r\")\n",
        "print(minha_lista)\n",
        "\n",
        "#case sensitive : quando o r difere do R"
      ],
      "execution_count": 0,
      "outputs": []
    },
    {
      "cell_type": "code",
      "metadata": {
        "id": "qF4ymDk2ydi6",
        "colab_type": "code",
        "colab": {}
      },
      "source": [
        "minha_string = \"O rato roeu a roupa do rei de Roma\"\n",
        "\n",
        "#em que posiçao aparece rei\n",
        "\n",
        "busca = minha_string.find(\"rei\")\n",
        "print(busca)"
      ],
      "execution_count": 0,
      "outputs": []
    },
    {
      "cell_type": "code",
      "metadata": {
        "id": "UHZmYAwGy0SV",
        "colab_type": "code",
        "colab": {}
      },
      "source": [
        "minha_string = \"O rato roeu a roupa do rei de Roma\"\n",
        "\n",
        "#too o trecho dps da palavra rei\n",
        "\n",
        "busca = minha_string.find(\"rei\")\n",
        "print(minha_string[busca:])"
      ],
      "execution_count": 0,
      "outputs": []
    },
    {
      "cell_type": "code",
      "metadata": {
        "id": "mJOd4irQzEfh",
        "colab_type": "code",
        "colab": {}
      },
      "source": [
        "minha_string = \"O rato roeu a roupa do rei de Roma\"\n",
        "\n",
        "minha_string = minha_string.replace(\"o rei\", \"a rainha\")\n",
        "\n",
        "print(minha_string)"
      ],
      "execution_count": 0,
      "outputs": []
    },
    {
      "cell_type": "code",
      "metadata": {
        "id": "RFPDb9zyzy8a",
        "colab_type": "code",
        "colab": {}
      },
      "source": [
        "def soma(x, y):\n",
        "  print(x)\n",
        "  print(y)\n",
        "  print(x + y)\n",
        "  \n",
        "soma(2, 3)"
      ],
      "execution_count": 0,
      "outputs": []
    },
    {
      "cell_type": "code",
      "metadata": {
        "id": "hU3IB9Tm0qaW",
        "colab_type": "code",
        "colab": {}
      },
      "source": [
        "def soma(x, y):\n",
        "  return x+y\n",
        "\n",
        "def multiplicacao(x, y):\n",
        "  return x*y\n",
        "s = soma(2, 3)\n",
        "m = multiplicacao(3, 4)\n",
        "print(s)\n",
        "print(m)\n",
        "print(soma(s, m))"
      ],
      "execution_count": 0,
      "outputs": []
    },
    {
      "cell_type": "code",
      "metadata": {
        "id": "fsCQPYpJ1K8N",
        "colab_type": "code",
        "colab": {}
      },
      "source": [
        "# criei um arquivo.txt antes\n",
        "\n",
        "arquivo = open('arquivo.txt')\n",
        "\n",
        "#para exibir conteudo do arquivo:\n",
        "linhas = arquivo.readlines()\n",
        "\n",
        "for linha in linhas:\n",
        "  print(linha)"
      ],
      "execution_count": 0,
      "outputs": []
    },
    {
      "cell_type": "code",
      "metadata": {
        "id": "6P7NMa_Z3HfP",
        "colab_type": "code",
        "colab": {}
      },
      "source": [
        "# criei um arquivo.txt antes\n",
        "\n",
        "arquivo = open('arquivo.txt')\n",
        "\n",
        "#para exibir conteudo do arquivo:\n",
        "texto_completo = arquivo.readlines()\n",
        "print(texto_completo)\n",
        "\n"
      ],
      "execution_count": 0,
      "outputs": []
    },
    {
      "cell_type": "code",
      "metadata": {
        "id": "N6RUxsT-3RlS",
        "colab_type": "code",
        "colab": {}
      },
      "source": [
        "#criando um arquivo\n",
        "\n",
        "w = open(\"arquivo2.txt\", \"w\")\n",
        "\n",
        "#gravando informações no arquivo2:\n",
        "\n",
        "w.write(\"Esse eh o meu arquivo\")\n",
        "\n",
        "w.close() #lembrar de fechar o arquivo"
      ],
      "execution_count": 0,
      "outputs": []
    },
    {
      "cell_type": "code",
      "metadata": {
        "id": "tyEnWNu654kC",
        "colab_type": "code",
        "colab": {}
      },
      "source": [
        "minha_lista = [\"abacaxi\",\"melancia\",\"abacate\"]\n",
        "minha_lista_2 = [1,2,3,4,5]\n",
        "minha_lista_3 = [\"abacaxi\",2,9.89,True]\n",
        "\n",
        "print(minha_lista_3)\n",
        "print(minha_lista[2])\n",
        "\n",
        "for item in minha_lista:\n",
        "  print(item)"
      ],
      "execution_count": 0,
      "outputs": []
    },
    {
      "cell_type": "code",
      "metadata": {
        "id": "xtzUjkJU7N7U",
        "colab_type": "code",
        "colab": {}
      },
      "source": [
        "minha_lista = [\"abacaxi\",\"melancia\",\"abacate\"]\n",
        "minha_lista_2 = [1,2,3,4,5]\n",
        "minha_lista_3 = [\"abacaxi\",2,9.89,True]\n",
        "\n",
        "tamanho = len(minha_lista)\n",
        "\n",
        "print(tamanho)"
      ],
      "execution_count": 0,
      "outputs": []
    },
    {
      "cell_type": "code",
      "metadata": {
        "id": "yVBhECEJ7ZtN",
        "colab_type": "code",
        "colab": {}
      },
      "source": [
        "# -*- coding: utf-8 -*-\n",
        "minha_lista = [\"abacaxi\",\"melancia\",\"abacate\"]\n",
        "minha_lista_2 = [1,2,3,4,5]\n",
        "minha_lista_3 = [\"abacaxi\",2,9.89,True]\n",
        "\n",
        "minha_lista.append(\"limão\")\n",
        "\n",
        "print(minha_lista)\n"
      ],
      "execution_count": 0,
      "outputs": []
    },
    {
      "cell_type": "code",
      "metadata": {
        "id": "Q3FefHjO7tZc",
        "colab_type": "code",
        "colab": {}
      },
      "source": [
        "# -*- coding: utf-8 -*-\n",
        "minha_lista = [\"abacaxi\",\"melancia\",\"abacate\"]\n",
        "minha_lista_2 = [1,2,3,4,5]\n",
        "minha_lista_3 = [\"abacaxi\",2,9.89,True]\n",
        "\n",
        "minha_lista.append(\"limão\") # adicionar itens\n",
        "\n",
        "if 3 in minha_lista_2:\n",
        "  print(\"3 está na lista\")"
      ],
      "execution_count": 0,
      "outputs": []
    },
    {
      "cell_type": "code",
      "metadata": {
        "id": "9lOasnGN77lx",
        "colab_type": "code",
        "colab": {}
      },
      "source": [
        "# -*- coding: utf-8 -*-\n",
        "minha_lista = [\"abacaxi\",\"melancia\",\"abacate\"]\n",
        "minha_lista_2 = [1,2,3,4,5]\n",
        "minha_lista_3 = [\"abacaxi\",2,9.89,True]\n",
        "\n",
        "minha_lista.append(\"limão\")\n",
        "\n",
        "del minha_lista[2:] #apagar itens\n",
        "print(minha_lista)"
      ],
      "execution_count": 0,
      "outputs": []
    },
    {
      "cell_type": "code",
      "metadata": {
        "id": "D1XHnP-g8Ifr",
        "colab_type": "code",
        "colab": {}
      },
      "source": [
        "# -*- coding: utf-8 -*-\n",
        "minha_lista_4 = []\n",
        "\n",
        "minha_lista_4.append(57)\n",
        "\n",
        "print(minha_lista_4)"
      ],
      "execution_count": 0,
      "outputs": []
    },
    {
      "cell_type": "code",
      "metadata": {
        "id": "lakcc6Qa8ibV",
        "colab_type": "code",
        "outputId": "64d854e8-8ced-4685-f419-a417abad4308",
        "colab": {
          "base_uri": "https://localhost:8080/",
          "height": 34
        }
      },
      "source": [
        "lista = [124,345,7,43,45,78,9,87,45]\n",
        "\n",
        "lista.sort() #ordenação da lista\n",
        "\n",
        "print(lista)"
      ],
      "execution_count": 0,
      "outputs": [
        {
          "output_type": "stream",
          "text": [
            "[7, 9, 43, 45, 45, 78, 87, 124, 345]\n"
          ],
          "name": "stdout"
        }
      ]
    },
    {
      "cell_type": "code",
      "metadata": {
        "id": "YCtTJmYh88Bq",
        "colab_type": "code",
        "outputId": "5d3cb836-0095-43dc-b482-f7badb120723",
        "colab": {
          "base_uri": "https://localhost:8080/",
          "height": 34
        }
      },
      "source": [
        "lista = [124,345,7,43,45,78,9,87,45]\n",
        "\n",
        "lista.sort(reverse=True) #ordenação da lista decrescente\n",
        "\n",
        "print(lista)"
      ],
      "execution_count": 0,
      "outputs": [
        {
          "output_type": "stream",
          "text": [
            "[345, 124, 87, 78, 45, 45, 43, 9, 7]\n"
          ],
          "name": "stdout"
        }
      ]
    },
    {
      "cell_type": "code",
      "metadata": {
        "id": "A9rm_a_q9Lu1",
        "colab_type": "code",
        "outputId": "f67c422c-feec-4dd2-9743-377e1a2436a9",
        "colab": {
          "base_uri": "https://localhost:8080/",
          "height": 34
        }
      },
      "source": [
        "lista = [124,345,7,43,45,78,9,87,45]\n",
        "\n",
        "lista.reverse() #reverter a lista\n",
        "\n",
        "print(lista)"
      ],
      "execution_count": 0,
      "outputs": [
        {
          "output_type": "stream",
          "text": [
            "[45, 87, 9, 78, 45, 43, 7, 345, 124]\n"
          ],
          "name": "stdout"
        }
      ]
    },
    {
      "cell_type": "code",
      "metadata": {
        "id": "vCdJMoOK9YeX",
        "colab_type": "code",
        "colab": {}
      },
      "source": [
        "lista2 = [\"bola\",\"abacate\",\"dinheiro\"]\n",
        "\n",
        "lista2.sort()\n",
        "# lista2.sort(reverse=True)\n",
        "\n",
        "print(lista2)"
      ],
      "execution_count": 0,
      "outputs": []
    },
    {
      "cell_type": "code",
      "metadata": {
        "id": "4KBXeptr9vj5",
        "colab_type": "code",
        "colab": {}
      },
      "source": [
        "# dicionarios em python\n",
        "dicionario_sites = {\"Diego\": \"diegomariano.com\"}\n",
        "print(dicionario_sites['Diego'])\n",
        "# Sera impresso \"diegomariano.com\n",
        "\n",
        "#se o dicionario tiver varios elementes, podemos usar laços\n",
        "for chave in dicionario_sites:\n",
        "    print(dicionario_sites[chave])"
      ],
      "execution_count": 0,
      "outputs": []
    },
    {
      "cell_type": "code",
      "metadata": {
        "id": "1yLUq_b1-HE9",
        "colab_type": "code",
        "colab": {}
      },
      "source": [
        "meu_dicionario = {\"A\":\"AMEIXA\",\"B\":\"BOLA\",\"C\":\"CACHORRO\"}\n",
        "\n",
        "print(meu_dicionario[\"A\"])\n",
        "print(meu_dicionario[\"B\"])\n",
        "print(meu_dicionario[\"C\"])\n",
        "\n",
        "print(meu_dicionario)"
      ],
      "execution_count": 0,
      "outputs": []
    },
    {
      "cell_type": "code",
      "metadata": {
        "id": "nyRBA53i-vOZ",
        "colab_type": "code",
        "colab": {}
      },
      "source": [
        "meu_dicionario = {\"A\":\"AMEIXA\",\"B\":\"BOLA\",\"C\":\"CACHORRO\"}\n",
        "\n",
        "for chave in meu_dicionario:\n",
        "  print(chave+\"-\"+meu_dicionario[chave])"
      ],
      "execution_count": 0,
      "outputs": []
    },
    {
      "cell_type": "code",
      "metadata": {
        "id": "5CImhYOF_LCW",
        "colab_type": "code",
        "colab": {}
      },
      "source": [
        "meu_dicionario = {\"A\":\"AMEIXA\",\"B\":\"BOLA\",\"C\":\"CACHORRO\"}\n",
        "\n",
        "for i in meu_dicionario.items():\n",
        "  print(i)"
      ],
      "execution_count": 0,
      "outputs": []
    },
    {
      "cell_type": "code",
      "metadata": {
        "id": "kegeKKDJ_WJ5",
        "colab_type": "code",
        "colab": {}
      },
      "source": [
        "meu_dicionario = {\"A\":\"AMEIXA\",\"B\":\"BOLA\",\"C\":\"CACHORRO\"}\n",
        "\n",
        "for i in meu_dicionario.values():\n",
        "  print(i)"
      ],
      "execution_count": 0,
      "outputs": []
    },
    {
      "cell_type": "code",
      "metadata": {
        "id": "dHihXUFE_a5U",
        "colab_type": "code",
        "colab": {}
      },
      "source": [
        "meu_dicionario = {\"A\":\"AMEIXA\",\"B\":\"BOLA\",\"C\":\"CACHORRO\"}\n",
        "\n",
        "for i in meu_dicionario.keys():\n",
        "  print(i)"
      ],
      "execution_count": 0,
      "outputs": []
    },
    {
      "cell_type": "code",
      "metadata": {
        "id": "j90AS8qc_hRj",
        "colab_type": "code",
        "colab": {}
      },
      "source": [
        "import random\n",
        "#gerar numeros aleatorios\n",
        "\n",
        "numero = random.randint(0,10) #escolhe numero de 0 a 10\n",
        "print(numero)"
      ],
      "execution_count": 0,
      "outputs": []
    },
    {
      "cell_type": "code",
      "metadata": {
        "id": "9zo9Aee9AF0v",
        "colab_type": "code",
        "colab": {}
      },
      "source": [
        "import random\n",
        "\n",
        "random.seed(1) #mesmo resultado\n",
        "numero = random.randint(0,10) #escolhe numero de 0 a 10\n",
        "print(numero)"
      ],
      "execution_count": 0,
      "outputs": []
    },
    {
      "cell_type": "code",
      "metadata": {
        "id": "ETazv3U7APb1",
        "colab_type": "code",
        "colab": {}
      },
      "source": [
        "import random\n",
        "\n",
        "lista = [6,45,9]\n",
        "numero = random.choice(lista) #aleatoriamente escolhe um valor\n",
        "print(numero)"
      ],
      "execution_count": 0,
      "outputs": []
    },
    {
      "cell_type": "code",
      "metadata": {
        "id": "bybH7g4SAkhb",
        "colab_type": "code",
        "colab": {}
      },
      "source": [
        "#exceções na linguagem python\n",
        "\n",
        "                                #divisoes com zero\n",
        "a = 2\n",
        "b = 0\n",
        "\n",
        "try:\n",
        "  print(a/b)\n",
        "  \n",
        "#caso um erro ocorra:\n",
        "\n",
        "except:\n",
        "  print(\"Não é permitida divisao por 0\")\n",
        "  \n",
        "print(a/a)"
      ],
      "execution_count": 0,
      "outputs": []
    },
    {
      "cell_type": "code",
      "metadata": {
        "id": "yLrdZoTEBKMn",
        "colab_type": "code",
        "colab": {}
      },
      "source": [
        "#EXERCÍCIO 1:\n",
        "#Faça um programa que receba a idade do usuário e diga se ele é maior ou menor de idade.   \n",
        "\n",
        "# -*- coding: utf-8 -*-\n",
        "idade = float(input(\"Digite sua idade: \"))\n",
        "print(\"A idade digitada foi: \") \n",
        "print(idade)\n",
        "\n",
        "if idade >= 18:\n",
        "  print(\"Você é maior de idade\")\n",
        "elif idade >0 and idade <18:\n",
        "  print(\"Você é menor de idade\")\n",
        "else:\n",
        "  print(\"Idade inválida\")\n",
        "\n"
      ],
      "execution_count": 0,
      "outputs": []
    },
    {
      "cell_type": "code",
      "metadata": {
        "id": "VS5RjyNLDOJ4",
        "colab_type": "code",
        "colab": {}
      },
      "source": [
        "#EXERCÍCIO 2:\n",
        "#Faça um programa que receba duas notas digitadas pelo usuário. Se a nota for maior ou igual a seis, escreva aprovado, senão escreva reprovado.\n",
        "\n",
        "nota1 = float(input(\"Informe sua primeira nota: \"))\n",
        "print(\"Nota informada: \")\n",
        "print(nota1)\n",
        "\n",
        "nota2 = float(input(\"Informe sua segunda nota: \"))\n",
        "print(\"Nota informada: \")\n",
        "print(nota2)\n",
        "\n",
        "media = (nota1+nota2)/2\n",
        "print(\"Sua media eh: \", media)\n",
        "\n",
        "if media >= 6:\n",
        "  print(\"Voce foi aprovado\")\n",
        "else:\n",
        "  print(\"Voce foi reprovado\")\n"
      ],
      "execution_count": 0,
      "outputs": []
    },
    {
      "cell_type": "code",
      "metadata": {
        "id": "cla2t2CLDU_j",
        "colab_type": "code",
        "colab": {}
      },
      "source": [
        "#EXERCÍCIO 3:\n",
        "#Escreva um programa que resolva uma equação de segundo grau.   \n",
        "from math import sqrt\n",
        "a = float(input(\"Valor de a: \"))\n",
        "b = float(input(\"Valor de b: \"))\n",
        "c = float(input(\"Valor de c: \"))\n",
        "\n",
        "delta = b**2 - 4*a*c\n",
        "raiz_delta = sqrt(delta)\n",
        "x1 = (-b + raiz_delta)/(2*a)\n",
        "x2 = (-b - raiz_delta)/(2*a)\n",
        "\n",
        "print(\"x1: %d\",x1)\n",
        "print(\"x2: %d\",x2)"
      ],
      "execution_count": 0,
      "outputs": []
    },
    {
      "cell_type": "code",
      "metadata": {
        "id": "tPlRYvDLDa-K",
        "colab_type": "code",
        "colab": {}
      },
      "source": [
        "#EXERCÍCIO 4:\n",
        "#Escreva um programa que ordene uma lista numérica com três elementos.  \n",
        "#usando metodo select sort\n",
        "lista = [3,2,1]\n",
        "\n",
        "for i in range(len(lista)):\n",
        "   \n",
        "    menor = i\n",
        "    \n",
        "    for j in range(i+1, len(lista)):\n",
        "      \n",
        "      if lista[j] < lista[menor]:\n",
        "        menor = j\n",
        "    \n",
        "    if lista[i] != lista[menor]:\n",
        "      aux = lista[i]\n",
        "      lista[i] = lista[menor]\n",
        "      lista[menor] = aux\n",
        "        \n",
        "print (lista)\n"
      ],
      "execution_count": 0,
      "outputs": []
    },
    {
      "cell_type": "code",
      "metadata": {
        "id": "xPpEK-L2Dh-L",
        "colab_type": "code",
        "colab": {}
      },
      "source": [
        "#EXERCÍCIO 5\n",
        "#Escreva um programa que receba dois números e um sinal, e faça a operação matemática definida pelo sinal.   \n",
        "\n",
        "num1 = input(\"Digite o primeiro numero: \")\n",
        "operador = input(\"Digite o operador: \")\n",
        "num2= input(\"Digite o segundo numero: \")\n",
        "\n",
        "if operador == \"+\":\n",
        "  resultado = num1 + num2\n",
        "  \n",
        "elif operador == \"-\":\n",
        "  resultado = num1 - num2\n",
        "  \n",
        "elif operador == \"/\":\n",
        "  resultado = num1 / num2 \n",
        "  \n",
        "elif operador == \"*\":\n",
        "  resultado = num1 * num2\n",
        "  \n",
        "elif operador == \"%\":\n",
        "  resultado = num1 % num2\n",
        "  \n",
        "elif operador == \"**\":\n",
        "  resultado = num1 **  num2\n",
        "  \n",
        "else:\n",
        "  print(\"Falha\")\n",
        "  \n",
        "print(resultado)"
      ],
      "execution_count": 0,
      "outputs": []
    },
    {
      "cell_type": "markdown",
      "metadata": {
        "id": "kMpj7oBVpDG6",
        "colab_type": "text"
      },
      "source": [
        "**Função list comprehension**"
      ]
    },
    {
      "cell_type": "code",
      "metadata": {
        "id": "vKIL-TbunwfE",
        "colab_type": "code",
        "colab": {}
      },
      "source": [
        "#list comprehension\n",
        "\n",
        "x = [1,2,3,4,5]\n",
        "# y=[valor_a_adicionar laço condição]\n",
        "y = [i**2 for i in x]\n",
        "print(\"Usando list comprehension\")\n",
        "print(x)\n",
        "print(y)"
      ],
      "execution_count": 0,
      "outputs": []
    },
    {
      "cell_type": "code",
      "metadata": {
        "id": "9G1xGhn4omx_",
        "colab_type": "code",
        "colab": {}
      },
      "source": [
        "#list comprehension\n",
        "\n",
        "x = [1,2,3,4,5]\n",
        "# y=[valor_a_adicionar laço condição]\n",
        "y = [i**2 for i in x]\n",
        "#apenas numeros impares\n",
        "z= [i for i in x if i%2==1]\n",
        "print(\"Usando list comprehension para numero impares\")\n",
        "\n",
        "print(z)"
      ],
      "execution_count": 0,
      "outputs": []
    },
    {
      "cell_type": "markdown",
      "metadata": {
        "id": "BVf9lzxwpHgp",
        "colab_type": "text"
      },
      "source": [
        "**Função enumerate**"
      ]
    },
    {
      "cell_type": "code",
      "metadata": {
        "id": "4u5rYheco_K1",
        "colab_type": "code",
        "colab": {}
      },
      "source": [
        "lista = [\"abacate\",\"cachorro\",\"bola\"]\n",
        "\n",
        "#COMUM\n",
        "#for i in range(len(lista)):\n",
        "#  print(i, lista[i])\n",
        "\n",
        "#COM função enumerate\n",
        "\n",
        "for i, nome in enumerate(lista):\n",
        "  print(i, nome)"
      ],
      "execution_count": 0,
      "outputs": []
    },
    {
      "cell_type": "markdown",
      "metadata": {
        "id": "vcos_Tfhp6O1",
        "colab_type": "text"
      },
      "source": [
        "**Função filter**"
      ]
    },
    {
      "cell_type": "code",
      "metadata": {
        "id": "gSMOqdr2p8rs",
        "colab_type": "code",
        "colab": {}
      },
      "source": [
        "#filter\n",
        "#quero apenas os valores pares\n",
        "\n",
        "def pares(i):\n",
        "  if i % 2 == 0:\n",
        "    return i\n",
        "  \n",
        "lista = [1,2,3,4,5,6,7,8,9,10]\n",
        "\n",
        "lista_pares = filter(pares, lista)\n",
        "print(list(lista_pares))"
      ],
      "execution_count": 0,
      "outputs": []
    },
    {
      "cell_type": "code",
      "metadata": {
        "id": "jTQ9sxvpqf4e",
        "colab_type": "code",
        "colab": {}
      },
      "source": [
        "#filter\n",
        "#quero apenas os valores impares\n",
        "\n",
        "def pares(i):\n",
        "  if i % 2 == 1:\n",
        "    return i\n",
        "  \n",
        "lista = [1,2,3,4,5,6,7,8,9,10]\n",
        "\n",
        "lista_pares = filter(pares, lista)\n",
        "print(list(lista_pares))"
      ],
      "execution_count": 0,
      "outputs": []
    },
    {
      "cell_type": "markdown",
      "metadata": {
        "id": "a90Vdv28qlwV",
        "colab_type": "text"
      },
      "source": [
        "**Função map**"
      ]
    },
    {
      "cell_type": "code",
      "metadata": {
        "id": "g5RzbBJkqnkK",
        "colab_type": "code",
        "colab": {}
      },
      "source": [
        "# map\n",
        "#codigo sem a função map\n",
        "def dobro(x):\n",
        "  return x*2\n",
        "\n",
        "#usando apenas um valor\n",
        "valor = 2\n",
        "print(dobro(valor))"
      ],
      "execution_count": 0,
      "outputs": []
    },
    {
      "cell_type": "code",
      "metadata": {
        "id": "XiGtq6XJq71F",
        "colab_type": "code",
        "outputId": "b8eef996-7e5b-497e-a14f-154f1e5c84a4",
        "colab": {
          "base_uri": "https://localhost:8080/",
          "height": 51
        }
      },
      "source": [
        "# map\n",
        "#utilizando de fato a função map\n",
        "def dobro(x):\n",
        "  return x*2\n",
        "\n",
        "#usando mais valores\n",
        "# valor = [1,2,3,4,5] #como nao dara certo, teremos que utilizar map\n",
        "#print(dobro(valor))\n",
        "\n",
        "valor = [1,2,3,4,5]\n",
        "\n",
        "valor_dobrado = map(dobro, valor)\n",
        "\n",
        "#for v in valor_dobrado:\n",
        "#  print(v)\n",
        "  \n",
        "  \n",
        "# para converter em apenas uma lista\n",
        "\n",
        "valor_dobrado = list(valor_dobrado)\n",
        "print(\"Em forma de lista: \")\n",
        "print(valor_dobrado)"
      ],
      "execution_count": 0,
      "outputs": [
        {
          "output_type": "stream",
          "text": [
            "Em forma de lista: \n",
            "[2, 4, 6, 8, 10]\n"
          ],
          "name": "stdout"
        }
      ]
    },
    {
      "cell_type": "markdown",
      "metadata": {
        "id": "sFbYH1PTsL8g",
        "colab_type": "text"
      },
      "source": [
        "**Função reduce**"
      ]
    },
    {
      "cell_type": "code",
      "metadata": {
        "id": "22l6CwZpsN0q",
        "colab_type": "code",
        "outputId": "0363bf20-adf5-4c22-fc7d-bf04b4a8dccb",
        "colab": {
          "base_uri": "https://localhost:8080/",
          "height": 34
        }
      },
      "source": [
        "#reduce\n",
        "\n",
        "#retorna apenas um valor pra lista\n",
        "from functools import reduce\n",
        "\n",
        "def soma(x, y):\n",
        "  return x+y\n",
        "  \n",
        "lista = [1,3,5,10,20]\n",
        "\n",
        "soma = reduce(soma, lista)\n",
        "print(soma)"
      ],
      "execution_count": 0,
      "outputs": [
        {
          "output_type": "stream",
          "text": [
            "39\n"
          ],
          "name": "stdout"
        }
      ]
    },
    {
      "cell_type": "markdown",
      "metadata": {
        "id": "_gc1yyW_swch",
        "colab_type": "text"
      },
      "source": [
        "**Função zip**"
      ]
    },
    {
      "cell_type": "code",
      "metadata": {
        "id": "cLQwrQPMsz9S",
        "colab_type": "code",
        "colab": {}
      },
      "source": [
        "#zip\n",
        "\n",
        "lista1 = [1,2,3,4,5]\n",
        "lista2 = [\"abacate\",\"bola\",\"cachorro\",\"dinheiro\",\"elefante\"]\n",
        "lista3 = [\"R$ 2,00\",\"R$ 5,00\",\"Não tem preço\",\"Não tem preço\",\"Não tem preço\"]\n",
        "\n",
        "#zip concatena as duas listas como se fosse uma só\n",
        "\n",
        "for numero, nome, valor in zip(lista1, lista2, lista3):\n",
        "  print(numero, nome, valor)"
      ],
      "execution_count": 0,
      "outputs": []
    },
    {
      "cell_type": "markdown",
      "metadata": {
        "id": "RF9OtJUmBooZ",
        "colab_type": "text"
      },
      "source": [
        "## Exercícios do livro Pense em Python (2ª ed.), de Allen B. Downey\n",
        "https://penseallen.github.io/PensePython2e/\n",
        "\n",
        "\n"
      ]
    },
    {
      "cell_type": "markdown",
      "metadata": {
        "id": "4Be02ScPCRo8",
        "colab_type": "text"
      },
      "source": [
        "Capítulo 2.2"
      ]
    },
    {
      "cell_type": "markdown",
      "metadata": {
        "id": "FGcMUoebB5s2",
        "colab_type": "text"
      },
      "source": [
        "1) O volume de uma esfera com raio r é ((4/3)pir^3)Qual é o volume de uma esfera com raio 5?"
      ]
    },
    {
      "cell_type": "code",
      "metadata": {
        "id": "dHF7C5fzB2D8",
        "colab_type": "code",
        "outputId": "9b34cd76-14f5-4c30-c157-09600c679800",
        "colab": {
          "base_uri": "https://localhost:8080/",
          "height": 34
        }
      },
      "source": [
        "import math\n",
        "\n",
        "r = 5\n",
        "\n",
        "volume = 4/3 * math.pi * math.pow(float(r),3)\n",
        "\n",
        "print(\"O volume da esfera com raio 5 é: \", volume)"
      ],
      "execution_count": 0,
      "outputs": [
        {
          "output_type": "stream",
          "text": [
            "O volume da esfera com raio 5 é:  523.5987755982989\n"
          ],
          "name": "stdout"
        }
      ]
    },
    {
      "cell_type": "markdown",
      "metadata": {
        "id": "BhgytReICTeU",
        "colab_type": "text"
      },
      "source": [
        "2) Suponha que o preço de capa de um livro seja R 24,95,mas as livrarias recebem um desconto de 40%. O transporte custa R$ 3,00 para o primeiro exemplar e 75 centavos para cada exemplar adicional. Qual é o custo total de atacado para 60 cópias?"
      ]
    },
    {
      "cell_type": "code",
      "metadata": {
        "id": "c1o4htEKCXja",
        "colab_type": "code",
        "outputId": "abc21453-85d3-4b9b-a340-afe7402b9ea8",
        "colab": {
          "base_uri": "https://localhost:8080/",
          "height": 34
        }
      },
      "source": [
        "capa = 24.95\n",
        "descontocapa = capa*0.4\n",
        "transporte = 3\n",
        "maistransporte=3+(59*0.75)\n",
        "\n",
        "total = descontocapa + maistransporte\n",
        "print(\"O custo total de atacado para as 60 cópias é de: \", total)\n"
      ],
      "execution_count": 0,
      "outputs": [
        {
          "output_type": "stream",
          "text": [
            "O custo total de atacado para as 60 cópias é de:  57.230000000000004\n"
          ],
          "name": "stdout"
        }
      ]
    },
    {
      "cell_type": "markdown",
      "metadata": {
        "id": "9_DpEexiE7Qz",
        "colab_type": "text"
      },
      "source": [
        "3) Se eu sair da minha casa às 6:52 e correr 1 quilômetro a um certo passo (8min15s por quilômetro), então 3 quilômetros a um passo mais rápido (7min12s por quilômetro) e 1 quilômetro no mesmo passo usado em primeiro lugar, que horas chego em casa para o café da manhã?"
      ]
    },
    {
      "cell_type": "code",
      "metadata": {
        "id": "RDC3tx-7E_u8",
        "colab_type": "code",
        "outputId": "892e42c0-41dd-426d-c441-2c7f3fd9861e",
        "colab": {
          "base_uri": "https://localhost:8080/",
          "height": 34
        }
      },
      "source": [
        "horasaida = 6.52\n",
        "\n",
        "sair1 = horasaida + 0.815\n",
        "sair2 = sair1 + (3*0.712)\n",
        "sair3 = sair2 + 0.815\n",
        "\n",
        "horachegada = sair3\n",
        "\n",
        "print(\"Cheguei as: \", horachegada)\n"
      ],
      "execution_count": 0,
      "outputs": [
        {
          "output_type": "stream",
          "text": [
            "Cheguei as:  10.286\n"
          ],
          "name": "stdout"
        }
      ]
    }
  ]
}